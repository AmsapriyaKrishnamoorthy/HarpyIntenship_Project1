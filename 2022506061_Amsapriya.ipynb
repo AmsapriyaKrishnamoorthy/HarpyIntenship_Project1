{
  "nbformat": 4,
  "nbformat_minor": 0,
  "metadata": {
    "colab": {
      "provenance": []
    },
    "kernelspec": {
      "name": "python3",
      "display_name": "Python 3"
    },
    "language_info": {
      "name": "python"
    }
  },
  "cells": [
    {
      "cell_type": "markdown",
      "source": [
        "SVD Model"
      ],
      "metadata": {
        "id": "Cnx0X1PNgt6l"
      }
    },
    {
      "cell_type": "code",
      "source": [
        "import numpy as np\n",
        "import pandas as pd\n",
        "import torch\n",
        "import torch.nn as nn\n",
        "import torch.optim as optim\n",
        "from torch.utils.data import Dataset, DataLoader\n",
        "import matplotlib.pyplot as plt\n",
        "\n",
        "# Generate synthetic MovieLens 100K-like dataset\n",
        "def generate_movielens_data(num_users=943, num_movies=1682, num_ratings=100000, seed=42):\n",
        "    np.random.seed(seed)\n",
        "    users = np.random.randint(1, num_users + 1, size=num_ratings)\n",
        "    movies = np.random.randint(1, num_movies + 1, size=num_ratings)\n",
        "    ratings = np.random.randint(1, 6, size=num_ratings)  # Ratings from 1 to 5\n",
        "\n",
        "    data = pd.DataFrame({\n",
        "        'userId': users,\n",
        "        'movieId': movies,\n",
        "        'rating': ratings\n",
        "    })\n",
        "\n",
        "    return data\n",
        "\n",
        "# Custom dataset class\n",
        "class MovieLensDataset(Dataset):\n",
        "    def __init__(self, data):\n",
        "        self.users = torch.tensor(data['userId'].values - 1, dtype=torch.long)  # Adjusting IDs to start from 0\n",
        "        self.movies = torch.tensor(data['movieId'].values - 1, dtype=torch.long)  # Adjusting IDs to start from 0\n",
        "        self.ratings = torch.tensor(data['rating'].values, dtype=torch.float32)\n",
        "\n",
        "    def __len__(self):\n",
        "        return len(self.users)\n",
        "\n",
        "    def __getitem__(self, idx):\n",
        "        return self.users[idx], self.movies[idx], self.ratings[idx]\n",
        "\n",
        "# Generate synthetic MovieLens-like data\n",
        "train_data = generate_movielens_data(num_ratings=80000)\n",
        "test_data = generate_movielens_data(num_ratings=20000)\n",
        "\n",
        "# Custom DataLoader\n",
        "train_dataset = MovieLensDataset(train_data)\n",
        "test_dataset = MovieLensDataset(test_data)\n",
        "\n",
        "train_loader = DataLoader(train_dataset, batch_size=64, shuffle=True)\n",
        "test_loader = DataLoader(test_dataset, batch_size=64, shuffle=False)\n",
        "\n",
        "# SVD-based Movie Recommendation Model\n",
        "class SVD(nn.Module):\n",
        "    def __init__(self, num_users, num_movies, embedding_dim=50):\n",
        "        super(SVD, self).__init__()\n",
        "        self.user_embedding = nn.Embedding(num_users, embedding_dim)\n",
        "        self.movie_embedding = nn.Embedding(num_movies, embedding_dim)\n",
        "        self.user_bias = nn.Embedding(num_users, 1)\n",
        "        self.movie_bias = nn.Embedding(num_movies, 1)\n",
        "        self.global_bias = nn.Parameter(torch.tensor(0.0))\n",
        "\n",
        "    def forward(self, users, movies):\n",
        "        user_emb = self.user_embedding(users)\n",
        "        movie_emb = self.movie_embedding(movies)\n",
        "        user_b = self.user_bias(users).squeeze()\n",
        "        movie_b = self.movie_bias(movies).squeeze()\n",
        "\n",
        "        preds = torch.sum(user_emb * movie_emb, dim=1) + user_b + movie_b + self.global_bias\n",
        "        return preds\n",
        "\n",
        "# Train the SVD model\n",
        "num_users = max(train_data['userId'].max(), test_data['userId'].max())  # Adjusting for 0-based indexing\n",
        "num_movies = max(train_data['movieId'].max(), test_data['movieId'].max())  # Adjusting for 0-based indexing\n",
        "model = SVD(num_users, num_movies)\n",
        "criterion = nn.MSELoss()\n",
        "optimizer = optim.Adam(model.parameters(), lr=0.001)\n",
        "num_epochs = 25\n",
        "train_losses = []\n",
        "\n",
        "for epoch in range(num_epochs):\n",
        "    model.train()\n",
        "    train_loss = 0.0\n",
        "    for users, movies, ratings in train_loader:\n",
        "        optimizer.zero_grad()\n",
        "        outputs = model(users, movies).squeeze()\n",
        "        loss = criterion(outputs, ratings)\n",
        "        loss.backward()\n",
        "        optimizer.step()\n",
        "        train_loss += loss.item()\n",
        "    avg_train_loss = train_loss / len(train_loader)\n",
        "    train_losses.append(avg_train_loss)\n",
        "    print(f'Epoch {epoch+1}, Loss: {avg_train_loss}')\n",
        "\n",
        "# Evaluate the SVD model\n",
        "model.eval()\n",
        "test_loss = 0.0\n",
        "with torch.no_grad():\n",
        "    for users, movies, ratings in test_loader:\n",
        "        outputs = model(users, movies).squeeze()\n",
        "        loss = criterion(outputs, ratings)\n",
        "        test_loss += loss.item()\n",
        "    avg_test_loss = test_loss / len(test_loader)\n",
        "    print(f'Test Loss: {avg_test_loss}')\n",
        "\n",
        "# Function to recommend movies for a user\n",
        "def recommend_movies_svd(user_id, model, num_movies, top_n=3):\n",
        "    user_input = torch.tensor([user_id] * num_movies, dtype=torch.long)\n",
        "    movie_input = torch.tensor(list(range(num_movies)), dtype=torch.long)\n",
        "    model.eval()\n",
        "    with torch.no_grad():\n",
        "        ratings = model(user_input, movie_input).squeeze()\n",
        "        recommended_movie_ids = torch.argsort(ratings, descending=True)[:top_n].tolist()\n",
        "    return recommended_movie_ids\n",
        "\n",
        "# Example usage\n",
        "user_id = 24\n",
        "recommended_movie_ids = recommend_movies_svd(user_id, model, num_movies, top_n=3)\n",
        "print(f\"Top 3 recommended movies for user {user_id} (SVD Model):\")\n",
        "print(recommended_movie_ids)\n",
        "\n",
        "# Plot training loss\n",
        "plt.figure(figsize=(10, 5))\n",
        "plt.plot(train_losses, label='Training Loss')\n",
        "plt.xlabel('Epoch')\n",
        "plt.ylabel('Loss')\n",
        "plt.title('Training Loss Over Epochs')\n",
        "plt.legend()\n",
        "plt.show()\n"
      ],
      "metadata": {
        "colab": {
          "base_uri": "https://localhost:8080/",
          "height": 973
        },
        "id": "8QI1zWnbgvHn",
        "outputId": "a18649c2-7dfc-4307-e91f-000938f6144c"
      },
      "execution_count": 2,
      "outputs": [
        {
          "output_type": "stream",
          "name": "stdout",
          "text": [
            "Epoch 1, Loss: 56.321346617126466\n",
            "Epoch 2, Loss: 41.7852192489624\n",
            "Epoch 3, Loss: 32.18804014892578\n",
            "Epoch 4, Loss: 25.34730265045166\n",
            "Epoch 5, Loss: 20.085502430725096\n",
            "Epoch 6, Loss: 15.927400928497315\n",
            "Epoch 7, Loss: 12.641640477371215\n",
            "Epoch 8, Loss: 10.051032919311524\n",
            "Epoch 9, Loss: 8.014350327110291\n",
            "Epoch 10, Loss: 6.415893272209168\n",
            "Epoch 11, Loss: 5.163033543968201\n",
            "Epoch 12, Loss: 4.18226437702179\n",
            "Epoch 13, Loss: 3.408739719772339\n",
            "Epoch 14, Loss: 2.799895720863342\n",
            "Epoch 15, Loss: 2.316353647041321\n",
            "Epoch 16, Loss: 1.9292048629283904\n",
            "Epoch 17, Loss: 1.6188119500637055\n",
            "Epoch 18, Loss: 1.3685192975521088\n",
            "Epoch 19, Loss: 1.1638253778457641\n",
            "Epoch 20, Loss: 0.9968342779159546\n",
            "Epoch 21, Loss: 0.8582733073234559\n",
            "Epoch 22, Loss: 0.7427913428544998\n",
            "Epoch 23, Loss: 0.6470621772050857\n",
            "Epoch 24, Loss: 0.5660071052789688\n",
            "Epoch 25, Loss: 0.49710585032701493\n",
            "Test Loss: 13.398453328556146\n",
            "Top 3 recommended movies for user 24 (SVD Model):\n",
            "[51, 1647, 1107]\n"
          ]
        },
        {
          "output_type": "display_data",
          "data": {
            "text/plain": [
              "<Figure size 1000x500 with 1 Axes>"
            ],
            "image/png": "[encoded data removed]"
          },
          "metadata": {}
        }
      ]
    },
    {
      "cell_type": "markdown",
      "source": [
        "EnhancedMovieLens Model"
      ],
      "metadata": {
        "id": "4zaLiPBOjS0V"
      }
    },
    {
      "cell_type": "code",
      "source": [
        "import tensorflow as tf\n",
        "import tensorflow_datasets as tfds\n",
        "import tensorflow_recommenders as tfrs\n",
        "\n",
        "# Load the MovieLens dataset\n",
        "ratings = tfds.load(\"movielens/100k-ratings\", split=\"train\")\n",
        "movies = tfds.load(\"movielens/100k-movies\", split=\"train\")\n",
        "\n",
        "# Prepare the data\n",
        "ratings = ratings.map(lambda x: {\n",
        "    \"movie_title\": x[\"movie_title\"],\n",
        "    \"user_id\": x[\"user_id\"],\n",
        "    \"timestamp\": x[\"timestamp\"]\n",
        "})\n",
        "\n",
        "movies = movies.map(lambda x: x[\"movie_title\"])\n",
        "\n",
        "# Define vocabulary for user IDs and movie titles\n",
        "user_ids_vocabulary = tf.keras.layers.StringLookup()\n",
        "movie_titles_vocabulary = tf.keras.layers.StringLookup()\n",
        "\n",
        "user_ids_vocabulary.adapt(ratings.map(lambda x: x[\"user_id\"]))\n",
        "movie_titles_vocabulary.adapt(movies)\n",
        "\n",
        "# Define user and movie models with additional features\n",
        "user_model = tf.keras.Sequential([\n",
        "    user_ids_vocabulary,\n",
        "    tf.keras.layers.Embedding(user_ids_vocabulary.vocab_size(), 64),\n",
        "    tf.keras.layers.Dense(32, activation=\"relu\")\n",
        "])\n",
        "\n",
        "movie_model = tf.keras.Sequential([\n",
        "    movie_titles_vocabulary,\n",
        "    tf.keras.layers.Embedding(movie_titles_vocabulary.vocab_size(), 64),\n",
        "    tf.keras.layers.Dense(32, activation=\"relu\")\n",
        "])\n",
        "\n",
        "# Define the retrieval task with additional metrics\n",
        "task = tfrs.tasks.Retrieval(metrics=tfrs.metrics.FactorizedTopK(\n",
        "    candidates=movies.batch(128).map(movie_model),\n",
        "    ks=[5, 10]\n",
        "))\n",
        "\n",
        "# Define the model\n",
        "class EnhancedMovieLensModel(tfrs.Model):\n",
        "    def __init__(self, user_model, movie_model, task):\n",
        "        super().__init__()\n",
        "        self.user_model = user_model\n",
        "        self.movie_model = movie_model\n",
        "        self.task = task\n",
        "\n",
        "    def compute_loss(self, features, training=False):\n",
        "        user_embeddings = self.user_model(features[\"user_id\"])\n",
        "        movie_embeddings = self.movie_model(features[\"movie_title\"])\n",
        "        return self.task(user_embeddings, movie_embeddings)\n",
        "\n",
        "# Create and compile the model\n",
        "model = EnhancedMovieLensModel(user_model, movie_model, task)\n",
        "model.compile(optimizer=tf.keras.optimizers.Adam(0.01))\n",
        "\n",
        "# Train the model\n",
        "model.fit(ratings.batch(4096), epochs=5)\n",
        "\n",
        "# Set up brute-force search for retrieval\n",
        "index = tfrs.layers.factorized_top_k.BruteForce(model.user_model)\n",
        "index.index_from_dataset(\n",
        "    movies.batch(100).map(lambda title: (title, model.movie_model(title)))\n",
        ")\n",
        "\n",
        "# Get recommendations\n",
        "_, titles = index(np.array([\"2\"]))\n",
        "print(f\"Top 3 recommendations for user 2: {titles[0, :3]}\")\n"
      ],
      "metadata": {
        "colab": {
          "base_uri": "https://localhost:8080/"
        },
        "id": "oBNuCxAph57u",
        "outputId": "32be9c04-28f6-416c-8c90-eda1736e7ce7"
      },
      "execution_count": 8,
      "outputs": [
        {
          "output_type": "stream",
          "name": "stderr",
          "text": [
            "WARNING:tensorflow:vocab_size is deprecated, please use vocabulary_size.\n",
            "WARNING:tensorflow:vocab_size is deprecated, please use vocabulary_size.\n"
          ]
        },
        {
          "output_type": "stream",
          "name": "stdout",
          "text": [
            "Epoch 1/5\n",
            "25/25 [==============================] - 22s 800ms/step - factorized_top_k/top_5_categorical_accuracy: 0.0068 - factorized_top_k/top_10_categorical_accuracy: 0.0135 - loss: 32331.2043 - regularization_loss: 0.0000e+00 - total_loss: 32331.2043\n",
            "Epoch 2/5\n",
            "25/25 [==============================] - 18s 714ms/step - factorized_top_k/top_5_categorical_accuracy: 0.0076 - factorized_top_k/top_10_categorical_accuracy: 0.0162 - loss: 31507.4165 - regularization_loss: 0.0000e+00 - total_loss: 31507.4165\n",
            "Epoch 3/5\n",
            "25/25 [==============================] - 19s 742ms/step - factorized_top_k/top_5_categorical_accuracy: 0.0078 - factorized_top_k/top_10_categorical_accuracy: 0.0176 - loss: 30977.5889 - regularization_loss: 0.0000e+00 - total_loss: 30977.5889\n",
            "Epoch 4/5\n",
            "25/25 [==============================] - 19s 774ms/step - factorized_top_k/top_5_categorical_accuracy: 0.0111 - factorized_top_k/top_10_categorical_accuracy: 0.0236 - loss: 30615.5863 - regularization_loss: 0.0000e+00 - total_loss: 30615.5863\n",
            "Epoch 5/5\n",
            "25/25 [==============================] - 18s 723ms/step - factorized_top_k/top_5_categorical_accuracy: 0.0127 - factorized_top_k/top_10_categorical_accuracy: 0.0272 - loss: 30357.1874 - regularization_loss: 0.0000e+00 - total_loss: 30357.1874\n",
            "Top 3 recommendations for user 2: [b'Temptress Moon (Feng Yue) (1996)' b'Venice/Venice (1992)'\n",
            " b'Convent, The (Convento, O) (1995)']\n"
          ]
        }
      ]
    },
    {
      "cell_type": "markdown",
      "source": [
        "Genre-based Movie Recommendation Model"
      ],
      "metadata": {
        "id": "n3IAVKfLkXQi"
      }
    },
    {
      "cell_type": "code",
      "source": [
        "import pandas as pd\n",
        "from sklearn.feature_extraction.text import TfidfVectorizer\n",
        "from sklearn.metrics.pairwise import cosine_similarity\n",
        "\n",
        "# Sample movie data (replace with your actual dataset)\n",
        "movies_data = {\n",
        "    'Title': ['Avatar', 'Titanic', 'The Avengers', 'The Lion King', 'The Hangover'],\n",
        "    'Genre': ['Action|Adventure|Sci-Fi', 'Drama|Romance', 'Action|Sci-Fi', 'Animation|Adventure|Drama', 'Comedy']\n",
        "}\n",
        "\n",
        "# Convert to DataFrame\n",
        "movies_df = pd.DataFrame(movies_data)\n",
        "\n",
        "# Create a TF-IDF Vectorizer to transform genres into numerical vectors\n",
        "tfidf = TfidfVectorizer(stop_words='english', tokenizer=lambda x: x.split('|'))\n",
        "genre_matrix = tfidf.fit_transform(movies_df['Genre'])\n",
        "\n",
        "# Compute cosine similarity matrix based on genre vectors\n",
        "cosine_sim = cosine_similarity(genre_matrix, genre_matrix)\n",
        "\n",
        "# Function to recommend movies based on genre similarity\n",
        "def recommend_movies_based_on_genre(movie_title, movies_df, cosine_sim, top_n=3):\n",
        "    # Get index of the movie title\n",
        "    idx = movies_df.index[movies_df['Title'] == movie_title][0]\n",
        "\n",
        "    # Get similarity scores with all movies\n",
        "    sim_scores = list(enumerate(cosine_sim[idx]))\n",
        "\n",
        "    # Sort movies based on similarity scores\n",
        "    sim_scores = sorted(sim_scores, key=lambda x: x[1], reverse=True)\n",
        "\n",
        "    # Get top-n similar movie indices\n",
        "    movie_indices = [i[0] for i in sim_scores[1:top_n+1]]  # Exclude the first item (itself)\n",
        "\n",
        "    # Return top-n recommended movie titles\n",
        "    return movies_df['Title'].iloc[movie_indices].tolist()\n",
        "\n",
        "# Example usage:\n",
        "movie_title = 'Avatar'  # Replace with any movie title from your dataset\n",
        "recommended_movies = recommend_movies_based_on_genre(movie_title, movies_df, cosine_sim)\n",
        "\n",
        "# Print recommended movies\n",
        "print(f\"Top {len(recommended_movies)} recommended movies similar to '{movie_title}':\")\n",
        "for idx, movie in enumerate(recommended_movies, 1):\n",
        "    print(f\"{idx}. {movie}\")"
      ],
      "metadata": {
        "colab": {
          "base_uri": "https://localhost:8080/"
        },
        "id": "kASdR2c-km62",
        "outputId": "766c15a1-589d-4397-f56a-5b41c3cfa117"
      },
      "execution_count": 7,
      "outputs": [
        {
          "output_type": "stream",
          "name": "stdout",
          "text": [
            "Top 3 recommended movies similar to 'Avatar':\n",
            "1. The Avengers\n",
            "2. The Lion King\n",
            "3. Titanic\n"
          ]
        }
      ]
    }
  ]
}